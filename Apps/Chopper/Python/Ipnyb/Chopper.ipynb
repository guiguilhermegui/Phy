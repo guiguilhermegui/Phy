{
  "nbformat": 4,
  "nbformat_minor": 0,
  "metadata": {
    "colab": {
      "provenance": [],
      "authorship_tag": "ABX9TyP/91muIIZ1rsk5XJ6CJLUf",
      "include_colab_link": true
    },
    "kernelspec": {
      "name": "python3",
      "display_name": "Python 3"
    },
    "language_info": {
      "name": "python"
    }
  },
  "cells": [
    {
      "cell_type": "markdown",
      "metadata": {
        "id": "view-in-github",
        "colab_type": "text"
      },
      "source": [
        "<a href=\"https://colab.research.google.com/github/guiguilhermegui/Phy/blob/main/Chopper.ipynb\" target=\"_parent\"><img src=\"https://colab.research.google.com/assets/colab-badge.svg\" alt=\"Open In Colab\"/></a>"
      ]
    },
    {
      "cell_type": "markdown",
      "source": [
        "#Primeira Rodada"
      ],
      "metadata": {
        "id": "UvuHFRqQIZgL"
      }
    },
    {
      "cell_type": "code",
      "source": [
        "#configurar no simbolo de chave ao lado\n",
        "\n",
        "#''' #comentário multilinha, apague com uma hashtag antes dos ,,,\n",
        "\n",
        "from google.colab import userdata\n",
        "token=userdata.get('token')\n",
        "username=userdata.get('username')\n",
        "email=userdata.get('email')\n",
        "repo=userdata.get('repo')\n",
        "pw=userdata.get('pw')\n",
        "\n",
        "#'''\n"
      ],
      "metadata": {
        "id": "fIMvYJlkI3V4"
      },
      "execution_count": 20,
      "outputs": []
    },
    {
      "cell_type": "code",
      "source": [
        "#Rodar só uma vez\n",
        "%cd\n",
        "!pip install pillow\n",
        "!git config --global user.name username\n",
        "!git config --global user.email email\n",
        "!git config --global user.password pw\n",
        "\n",
        "\n",
        "\n",
        "\n",
        "\n",
        "%cd Phy/\n",
        "%ls"
      ],
      "metadata": {
        "id": "87rR9KJUJ6x3",
        "colab": {
          "base_uri": "https://localhost:8080/"
        },
        "outputId": "0bcca037-7169-473e-bef8-1c649b234c0d"
      },
      "execution_count": 21,
      "outputs": [
        {
          "output_type": "stream",
          "name": "stdout",
          "text": [
            "/root\n",
            "Requirement already satisfied: pillow in /usr/local/lib/python3.10/dist-packages (10.4.0)\n",
            "[Errno 2] No such file or directory: 'Phy/'\n",
            "/root\n"
          ]
        }
      ]
    },
    {
      "cell_type": "markdown",
      "source": [
        "# Se precisar rodar de novo renomeia a pasta e roda este de baixo"
      ],
      "metadata": {
        "id": "3wbqwkSrIpoy"
      }
    },
    {
      "cell_type": "code",
      "source": [
        "%cd\n",
        "%mkdir ../content/NewVersion\n",
        "%cd /content/NewVersion\n",
        "\n",
        "!git init\n",
        "!git clone https://{token}@github.com/{username}/{repo}"
      ],
      "metadata": {
        "id": "ibgrDrDscDh2",
        "outputId": "718f539a-f214-4059-ded1-268866bed2c4",
        "colab": {
          "base_uri": "https://localhost:8080/"
        }
      },
      "execution_count": 22,
      "outputs": [
        {
          "output_type": "stream",
          "name": "stdout",
          "text": [
            "/root\n",
            "mkdir: cannot create directory ‘../content/NewVersion’: File exists\n",
            "/content/NewVersion\n",
            "Reinitialized existing Git repository in /content/NewVersion/.git/\n",
            "fatal: destination path 'Phy' already exists and is not an empty directory.\n"
          ]
        }
      ]
    },
    {
      "cell_type": "markdown",
      "source": [
        " # Help cheat sheet"
      ],
      "metadata": {
        "id": "thErqsnjHgzu"
      }
    },
    {
      "cell_type": "markdown",
      "source": [
        "### trocar de pasta virtual colab\n"
      ],
      "metadata": {
        "id": "okKKocy8YM6W"
      }
    },
    {
      "cell_type": "markdown",
      "source": [
        "\n",
        "\n",
        "```\n",
        "%mkdir ../content/NewVersion\n",
        "%cd /content/NewVersion\n",
        "%ls\n",
        "```\n",
        "\n"
      ],
      "metadata": {
        "id": "owMtMwddYbPZ"
      }
    },
    {
      "cell_type": "markdown",
      "source": [
        "### mover/editar pastas (cudado, mover significa excluir também)"
      ],
      "metadata": {
        "id": "nEQPon_GH_En"
      }
    },
    {
      "cell_type": "markdown",
      "source": [
        "#### opção 0, arquivo único na árvore de arquivos\n",
        "\n"
      ],
      "metadata": {
        "id": "32v3zPg8YtfA"
      }
    },
    {
      "cell_type": "markdown",
      "source": [
        "  1. editar na interface do site"
      ],
      "metadata": {
        "id": "kDPSyy8bYy-J"
      }
    },
    {
      "cell_type": "markdown",
      "source": [
        "\n",
        "#### opção 1, edita offline, exclui e sobe"
      ],
      "metadata": {
        "id": "wogGtMMAY6fh"
      }
    },
    {
      "cell_type": "markdown",
      "source": [
        "\n",
        "  1. fazer download da pasta,\n",
        "  2. copia bck,\n",
        "  3. edita,\n",
        "  4. deletar no github, e depois\n",
        "  5. subir de volta"
      ],
      "metadata": {
        "id": "Tr7pSk9vY5BB"
      }
    },
    {
      "cell_type": "markdown",
      "source": [
        "\n",
        "#### opção 2 usar os comandos git"
      ],
      "metadata": {
        "id": "ccQvbyVGZx4O"
      }
    },
    {
      "cell_type": "markdown",
      "source": [
        "       \n",
        "\n",
        "\n",
        "\n",
        "\n",
        "1. usar um dos comandos git abaixo,\n",
        "2. testar com pasta de testes\n",
        "\n",
        " oi ( [procure ajuda](https://git-scm.com/docs/git-mv)) it is dangerous\n",
        "\n",
        " use o parâmetro --dry-run pra mostrar o que acontecereia\n",
        "\n",
        "\n",
        "        git mv ./folder/* . --dry-run\n",
        "        git mv folder/* . --dry-run\n",
        "        git mv folder/.* . --dry-run\n",
        "\n",
        "e depois de descobrir o comando correto   \n",
        "\n",
        "        git rm ./my-app\n",
        "        git add -A\n",
        "        git commit -m \"Folders moved out of my-app directory :)\"\n",
        "\n"
      ],
      "metadata": {
        "id": "Y1pILYjLHdjG"
      }
    },
    {
      "cell_type": "code",
      "source": [
        "%cd Phy/Apps/Chopper/\n",
        "%ls"
      ],
      "metadata": {
        "id": "WG8O_8ocYFba",
        "outputId": "ce38cf50-53e0-4e03-f5cf-54d5bd2b77b1",
        "colab": {
          "base_uri": "https://localhost:8080/"
        }
      },
      "execution_count": 23,
      "outputs": [
        {
          "output_type": "stream",
          "name": "stdout",
          "text": [
            "/content/NewVersion/Phy/Apps/Chopper\n",
            "aChopper.ipynb  \u001b[0m\u001b[01;34mMatlab\u001b[0m/  \u001b[01;34mPillow\u001b[0m/\n"
          ]
        }
      ]
    },
    {
      "cell_type": "markdown",
      "source": [
        "### Download da pasta\n"
      ],
      "metadata": {
        "id": "ZG3ve_WLIJVV"
      }
    },
    {
      "cell_type": "markdown",
      "source": [
        "\n",
        "    from google.colab import files\n",
        "    #!zip -r /content/NewVersion.zip /content/NewVersion/\n",
        "    #files.download('/content/NewVersion.zip')"
      ],
      "metadata": {
        "id": "ojnDGZJsHxlu"
      }
    },
    {
      "cell_type": "markdown",
      "source": [
        "\n",
        "### google drive connection"
      ],
      "metadata": {
        "id": "bnp3IUNUIMFu"
      }
    },
    {
      "cell_type": "markdown",
      "source": [
        "\n",
        "\n",
        "\n",
        "\n",
        "\n",
        "    from google.colab import drive\n",
        "    #drive.mount('/content/drive')\n",
        "\n",
        "\n",
        "\n"
      ],
      "metadata": {
        "id": "P_WtP-89BhNr"
      }
    },
    {
      "cell_type": "markdown",
      "source": [
        "# Início do código OpenCv\n"
      ],
      "metadata": {
        "id": "yp66iveTgOOh"
      }
    },
    {
      "cell_type": "code",
      "source": [
        "%cd /content/NewVersion/Phy/\n",
        "%ls\n",
        "\n"
      ],
      "metadata": {
        "id": "fgUuMdxLhNAb",
        "outputId": "921cdf78-24b4-4151-f8d2-754f5211bb5f",
        "colab": {
          "base_uri": "https://localhost:8080/"
        }
      },
      "execution_count": 34,
      "outputs": [
        {
          "output_type": "stream",
          "name": "stdout",
          "text": [
            "/content/NewVersion/Phy\n",
            "\u001b[0m\u001b[01;34mApps\u001b[0m/  Chopper.ipynb  \u001b[01;34mImg\u001b[0m/  LICENSE  README.md\n"
          ]
        }
      ]
    },
    {
      "cell_type": "code",
      "source": [
        "!ls -la"
      ],
      "metadata": {
        "id": "QeiR8N_FjORK",
        "outputId": "c3622c41-0dd4-4b69-a991-81e2814b09d6",
        "colab": {
          "base_uri": "https://localhost:8080/"
        }
      },
      "execution_count": 33,
      "outputs": [
        {
          "output_type": "stream",
          "name": "stdout",
          "text": [
            "total 32\n",
            "drwxr-xr-x 4 root root  4096 Sep 24 14:46 .\n",
            "drwxr-xr-x 5 root root  4096 Sep 24 14:46 ..\n",
            "-rw-r--r-- 1 root root 14114 Sep 24 14:46 aChopper.ipynb\n",
            "drwxr-xr-x 2 root root  4096 Sep 24 14:46 Matlab\n",
            "drwxr-xr-x 2 root root  4096 Sep 24 14:46 Pillow\n"
          ]
        }
      ]
    },
    {
      "cell_type": "code",
      "source": [
        "import cv2\n",
        "import numpy as np\n",
        "from sklearn.cluster import KMeans\n",
        "from google.colab.patches import cv2_imshow\n",
        "\n",
        "\n",
        "# Load the image\n",
        "# Use cv2.imread() with the cv2.IMREAD_UNCHANGED flag\n",
        "img = cv2.imread('/content/NewVersion/Phy/Img/TESTES-1145-1-eds.tif', cv2.IMREAD_UNCHANGED)\n",
        "\n",
        "# Check if the image is grayscale and convert to BGR if necessary\n",
        "if len(img.shape) == 2: #check if the image is grayscale\n",
        "  img = cv2.cvtColor(img, cv2.COLOR_GRAY2BGR) #convert to BGR\n",
        "\n",
        "\n",
        "# Convert the image to 8-bit depth if it's not already\n",
        "if img.dtype != np.uint8:\n",
        "  img = cv2.normalize(img, None, 0, 255, cv2.NORM_MINMAX, dtype=cv2.CV_8U)\n",
        "\n",
        "\n",
        "# Convert to HSV color space\n",
        "hsv = cv2.cvtColor(img, cv2.COLOR_BGR2HSV)\n",
        "\n",
        "# Apply thresholding based on hue\n",
        "lower_bound = np.array([0, 50, 50])\n",
        "upper_bound = np.array([20, 255, 255])\n",
        "mask = cv2.inRange(hsv, lower_bound, upper_bound)\n",
        "\n",
        "# Apply morphological operations\n",
        "kernel = np.ones((5, 5), np.uint8)\n",
        "mask = cv2.morphologyEx(mask, cv2.MORPH_OPEN, kernel)\n",
        "mask = cv2.morphologyEx(mask, cv2.MORPH_CLOSE, kernel)\n",
        "\n",
        "# Find connected components\n",
        "_, labels = cv2.connectedComponents(mask)\n",
        "\n",
        "# Extract features and classify\n",
        "# ... (use machine learning techniques)\n",
        "\n",
        "# Visualize\n",
        "segmented_img = cv2.bitwise_and(img, img, mask=mask)\n",
        "cv2_imshow(segmented_img)\n",
        "cv2.waitKey(0)\n",
        "cv2.destroyAllWindows()"
      ],
      "metadata": {
        "id": "mCyrK_8weMID",
        "outputId": "e13c3066-7390-4040-f7d9-bba8d514cc4b",
        "colab": {
          "base_uri": "https://localhost:8080/",
          "height": 193
        }
      },
      "execution_count": 41,
      "outputs": [
        {
          "output_type": "display_data",
          "data": {
            "text/plain": [
              "<PIL.Image.Image image mode=RGB size=152x176>"
            ],
            "image/png": "[encoded data removed]",
            "image/jpeg": "[encoded data removed]"
          },
          "metadata": {}
        }
      ]
    },
    {
      "cell_type": "markdown",
      "source": [
        "# Tutorial Pillow\n",
        "https://pillow.readthedocs.io/en/stable/handbook/tutorial.html"
      ],
      "metadata": {
        "id": "sFmORCx5dpD6"
      }
    },
    {
      "cell_type": "markdown",
      "source": [
        "# Início do código Pillow"
      ],
      "metadata": {
        "id": "lL6Z0JWqHknT"
      }
    },
    {
      "cell_type": "code",
      "execution_count": null,
      "metadata": {
        "id": "YxPcYT86v9cx"
      },
      "outputs": [],
      "source": [
        "\n",
        "\n",
        "\n",
        "\n",
        "from PIL import Image  # Importa a biblioteca PIL para manipulação de imagens\n",
        "import os  # Importa a biblioteca os para interagir com o sistema de arquivos\n",
        "\n",
        "# Função para obter a cor dominante da imagem\n",
        "def get_dominant_color(image_path):\n",
        "    # Abre a imagem no caminho especificado\n",
        "    with Image.open(image_path) as img:\n",
        "        img = img.convert(\"L\")  # Converte a imagem para escala de cinza (modo \"L\")\n",
        "        # Obtém todas as cores da imagem e suas contagens\n",
        "        colors = img.getcolors(img.size[0] * img.size[1])\n",
        "        # Retorna a cor mais frequente (dominante)\n",
        "        dominant_color = max(colors, key=lambda item: item[0])[1]\n",
        "        return dominant_color\n",
        "\n",
        "# Função para criar uma pasta se ela não existir\n",
        "def create_folder_if_not_exists(folder_path):\n",
        "    # Verifica se a pasta já existe\n",
        "    if not os.path.exists(folder_path):\n",
        "        os.makedirs(folder_path)  # Cria a pasta se não existir\n",
        "\n",
        "# Função para mover a imagem para uma pasta correspondente à sua cor dominante\n",
        "def move_image_by_color(image_path, output_folder, dominant_color):\n",
        "    # O valor dominante é um único valor de intensidade em tons de cinza\n",
        "    color_folder_name = str(dominant_color)  # Converte o valor da cor dominante para string\n",
        "    color_folder_path = os.path.join(output_folder, color_folder_name)  # Cria o caminho da nova pasta\n",
        "    create_folder_if_not_exists(color_folder_path)  # Cria a nova pasta se necessário\n",
        "\n",
        "    image_name = os.path.basename(image_path)  # Obtém o nome do arquivo da imagem original\n",
        "    new_image_path = os.path.join(color_folder_path, image_name)  # Define o novo caminho da imagem\n",
        "\n",
        "    # Abre a imagem novamente para realizar o corte\n",
        "    with Image.open(image_path) as img:\n",
        "        width, height = img.size  # Obtém as dimensões da imagem\n",
        "\n",
        "        # Define as coordenadas do corte (exemplo: cortando a metade da imagem)\n",
        "        left = 0\n",
        "        top = 0\n",
        "        right = width // 2  # Cortando até a metade da largura\n",
        "        bottom = height // 2  # Cortando até a metade da altura\n",
        "\n",
        "        # Realiza o corte com as coordenadas definidas\n",
        "        cropped_image = img.crop((left, top, right, bottom))\n",
        "\n",
        "        # Salva a imagem cortada na nova pasta correspondente à cor dominante\n",
        "        cropped_image.save(new_image_path)\n",
        "\n",
        "# Caminho para as imagens de entrada e a pasta de saída\n",
        "input_folder = \"Phy\"  # Pasta onde as imagens estão localizadas\n",
        "output_folder = \"separated_images\"  # Pasta onde as imagens cortadas serão salvas\n",
        "\n",
        "# Loop através de todos os arquivos na pasta de entrada\n",
        "for filename in os.listdir(input_folder):\n",
        "    # Verifica se o arquivo tem uma das extensões especificadas (incluindo .tif)\n",
        "    if filename.endswith((\".jpg\", \".jpeg\", \".png\", \".tif\")):\n",
        "        image_path = os.path.join(input_folder, filename)  # Cria o caminho completo do arquivo de imagem\n",
        "        dominant_color = get_dominant_color(image_path)  # Obtém a cor dominante da imagem\n",
        "        move_image_by_color(image_path, output_folder, dominant_color)  # Move e corta a imagem pela cor dominante\n"
      ]
    },
    {
      "cell_type": "markdown",
      "source": [
        "Pillow"
      ],
      "metadata": {
        "id": "ZPwisIrbzBwW"
      }
    }
  ]
}
